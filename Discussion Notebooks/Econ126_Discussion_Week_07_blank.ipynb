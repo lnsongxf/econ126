{
    "cells": [
        {
            "cell_type": "code",
            "execution_count": null,
            "metadata": {},
            "outputs": [],
            "source": [
                "import numpy as np\n",
                "import pandas as pd\n",
                "import linearsolve as ls\n",
                "import matplotlib.pyplot as plt\n",
                "plt.style.use('classic')\n",
                "%matplotlib inline"
            ]
        },
        {
            "cell_type": "markdown",
            "metadata": {},
            "source": [
                "# Discussion: Week 7\n",
                "\n",
                "\n",
                "## Exercise: The Baseline RBC Model without Labor\n",
                "\n",
                "The equilibrium conditions for the RBC model without labor are:\n",
                "\n",
                "\\begin{align}\n",
                "\\frac{1}{C_t} & = \\beta E_t \\left[\\frac{\\alpha A_{t+1}K_{t+1}^{\\alpha-1} +1-\\delta }{C_{t+1}}\\right]\\\\\n",
                "K_{t+1} & = I_t + (1-\\delta) K_t\\\\\n",
                "Y_t & = A_t K_t^{\\alpha}\\\\\n",
                "Y_t & = C_t + I_t\\\\\n",
                "\\log A_{t+1} & = \\rho \\log A_t + \\epsilon_{t+1}\n",
                "\\end{align}\n",
                "\n",
                "where $\\epsilon_{t+1} \\sim \\mathcal{N}(0,\\sigma^2)$. \n",
                "\n",
                "The objective is use `linearsolve` to create a stochastic simulation of the RBC model. USe the following parameter values for the simulation:\n",
                "\n",
                "| $$\\rho$$ | $$\\sigma$$ | $$\\beta$$ | $$\\alpha$$ | $$\\delta $$ |\n",
                "|----------|------------|-----------|------------|-------------|\n",
                "| 0.75     | 0.006      | 0.99      | 0.35       |  0.025      |\n",
                "\n",
                "\n",
                "### Model Preparation\n",
                "\n",
                "Before proceding, let's recast the model in the form required for `linearsolve`. Write the model with all variables moved to the lefthand side of the equations and dropping the expecations operator $E_t$ and the exogenous shock $\\epsilon_{t+1}$:\n",
                "\n",
                "\\begin{align}\n",
                "0 & = \\beta\\left[\\frac{\\alpha A_{t+1}K_{t+1}^{\\alpha-1} +1-\\delta }{C_{t+1}}\\right] - \\frac{1}{C_t}\\\\\n",
                "0 & = A_t K_t^{\\alpha} - Y_t\\\\\n",
                "0 & = I_t + (1-\\delta) K_t - K_{t+1}\\\\\n",
                "0 & = C_t + I_t - Y_t\\\\\n",
                "0 & = \\rho \\log A_t - \\log A_{t+1}\n",
                "\\end{align}\n",
                "\n",
                "Remember, capital and TFP are called *state variables* because they're $t+1$ values are predetermined. Output, consumption, and investment are called a *costate* or *control* variables. Note that the model as 5 equations in 5 endogenous variables.\n",
                "\n"
            ]
        },
        {
            "cell_type": "markdown",
            "metadata": {},
            "source": [
                "### Initialization, Approximation, and Solution\n",
                "\n",
                "The next several cells initialize the model in `linearsolve` and then approximate and solve it."
            ]
        },
        {
            "cell_type": "code",
            "execution_count": null,
            "metadata": {},
            "outputs": [],
            "source": [
                "# Create a variable called 'parameters' that stores the model parameter values in a Pandas Series. CELL PROVIDED\n",
                "parameters = pd.Series(dtype=float)\n",
                "parameters['rho'] = .75\n",
                "parameters['sigma_squared'] = 0.006**2\n",
                "parameters['beta'] = 0.99\n",
                "parameters['alpha'] = 0.35\n",
                "parameters['delta'] = 0.025\n",
                "\n",
                "# Create variable called 'var_names' that stores the variable names in a list with state variables ordered first\n",
                "var_names = ['a','k','y','c','i']\n",
                "\n",
                "# Create variable called 'shock_names' that stores an exogenous shock name for each state variable.\n",
                "shock_names = ['e_a','e_k']\n",
                "\n",
                "# Define a function that evaluates the equilibrium conditions of the model solved for zero. \n",
                "def equilibrium_equations(variables_forward,variables_current,parameters):\n",
                "    \n",
                "    # Parameters. PROVIDED\n",
                "    p = parameters\n",
                "    \n",
                "    # Current variables. PROVIDED\n",
                "    cur = variables_current\n",
                "    \n",
                "    # Forward variables. PROVIDED\n",
                "    fwd = variables_forward\n",
                "\n",
                "    # Euler equation\n",
                "    euler_equation = p.beta*(p.alpha*fwd.a*fwd.k**(p.alpha-1)+1-p.delta)/fwd.c - 1/cur.c\n",
                "    \n",
                "    # Production function\n",
                "    production_function = cur.a*cur.k**p.alpha - cur.y\n",
                "    \n",
                "    # Capital evolution\n",
                "    capital_evolution = cur.i + (1 - p.delta)*cur.k - fwd.k\n",
                "    \n",
                "    # Market clearing\n",
                "    market_clearing = cur.c+cur.i - cur.y\n",
                "    \n",
                "    # Exogenous tfp\n",
                "    tfp_process = p.rho*np.log(cur.a) - np.log(fwd.a)\n",
                "    \n",
                "    \n",
                "    # Stack equilibrium conditions into a numpy array\n",
                "    return np.array([\n",
                "        euler_equation,\n",
                "        production_function,\n",
                "        capital_evolution,\n",
                "        market_clearing,\n",
                "        tfp_process\n",
                "        ])\n",
                "\n",
                "# Initialize the model into a variable named 'rbc_model'\n",
                "rbc_model = ls.model(equations = equilibrium_equations,\n",
                "                 n_states=2,\n",
                "                 var_names=var_names,\n",
                "                 shock_names=shock_names,\n",
                "                 parameters=parameters)\n",
                "\n",
                "\n",
                "# Compute the steady state numerically using .compute_ss() method of rbc_model\n",
                "guess = [1,4,1,1,1]\n",
                "rbc_model.compute_ss(guess)\n",
                "\n",
                "# Find the log-linear approximation around the non-stochastic steady state and solve using .approximate_and_solve() method of rbc_model\n",
                "rbc_model.approximate_and_solve()"
            ]
        },
        {
            "cell_type": "markdown",
            "metadata": {},
            "source": [
                "### Stochastic Simulation\n",
                "\n",
                "Compute a 201 period stochastic simulation of the model. Set the seed for the simulation to 126.\n",
                "\n",
                "Recall that `linearsolve` handles the model *as if* there is an exogenous shock for every state variable. In this case, that means two exogenous shocks $\\epsilon_t^a$ and $\\epsilon^k_t$. For the stochastic simulation, we need to specify the *covariance matrix* for the two shocks. The covariance matrix has the variance of each shock in the diagonal elements and covariances on the off-diagonal elements. Since there is no shock to capital in our model, \n",
                "\n",
                "\\begin{align}\n",
                "\\text{Covariance matrix} & = \\left[\\begin{array}{cc}\\sigma^2 & 0\\\\ 0 & 0\\end{array}\\right]\n",
                "\\end{align}"
            ]
        },
        {
            "cell_type": "code",
            "execution_count": null,
            "metadata": {},
            "outputs": [],
            "source": [
                "# Compute the stochastic simulation using the .stoch_sim() method of rbc_model\n"
            ]
        },
        {
            "cell_type": "code",
            "execution_count": null,
            "metadata": {},
            "outputs": [],
            "source": [
                "# Print the first 5 rows of rbc_model.simulated\n"
            ]
        },
        {
            "cell_type": "code",
            "execution_count": null,
            "metadata": {},
            "outputs": [],
            "source": [
                "# Print the first 5 rows of simulated output\n"
            ]
        },
        {
            "cell_type": "markdown",
            "metadata": {},
            "source": [
                "## Exercise: Analyze Simulation Results\n",
                "\n",
                "On a single axis, plot the simulated values for output, consumption and investment."
            ]
        },
        {
            "cell_type": "code",
            "execution_count": null,
            "metadata": {},
            "outputs": [],
            "source": [
                "# Plot simulated results\n",
                "\n",
                "\n",
                "",
                ""
            ]
        },
        {
            "cell_type": "markdown",
            "metadata": {},
            "source": [
                "**Questions**\n",
                "\n",
                "1. What is the exogenous *cause* of the fluctuations in output, consumption and investment in your simulation?\n",
                "2. Looking at the plot of your simulated data, which quantity \u2014 output, consumption or investment \u2014 has the smallest fluctuations from the steady state? What feature of the model leads to this?\n",
                "3. Which quantity \u2014 output, consumption or investment \u2014 has the largest fluctuations from the steady state? What feature of the model leads to this?"
            ]
        },
        {
            "cell_type": "markdown",
            "metadata": {},
            "source": [
                "**Answers**\n",
                "\n",
                "1.  \n\n",
                "2.  \n\n",
                "3.  "
            ]
        }
    ],
    "metadata": {
        "kernelspec": {
            "display_name": "Python 3",
            "language": "python",
            "name": "python3"
        },
        "language_info": {
            "codemirror_mode": {
                "name": "ipython",
                "version": 3
            },
            "file_extension": ".py",
            "mimetype": "text/x-python",
            "name": "python",
            "nbconvert_exporter": "python",
            "pygments_lexer": "ipython3",
            "version": "3.8.5"
        }
    },
    "nbformat": 4,
    "nbformat_minor": 2
}