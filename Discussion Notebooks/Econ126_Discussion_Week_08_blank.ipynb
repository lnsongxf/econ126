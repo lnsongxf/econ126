{
    "cells": [
        {
            "cell_type": "markdown",
            "metadata": {},
            "source": [
                "# Discussion: Week 8\n",
                "\n",
                "Questions based on discussion of Lawrence Summers' article \"Some  Skeptical  Observations  on Real  Business  Cycle Theory\" in the Fall 1986 issue of the Minneapolis Fed's *Quarterly Review* (Link to article: [https://www.minneapolisfed.org/research/qr/qr1043.pdf](https://www.minneapolisfed.org/research/qr/qr1043.pdf)).\n",
                "\n",
                "\n",
                "**Questions**\n",
                "\n",
                "1. What, according to Prescott's article, is the fundamental driving force behind the business cycle? \n",
                "2. According Summers' introduction, why is RBC theory counter to what most macroeconomists at the time of Summers' writing knew about the business cycle?\n",
                "3. In your own words, what are the four major objections that Summers raises to the RBC research program?\n",
                "4. What does Summers mean by *exchange failures*?"
            ]
        },
        {
            "cell_type": "markdown",
            "metadata": {},
            "source": [
                "**Answers**\n",
                "\n",
                "1.  \n\n",
                "2.  \n\n",
                "3.  \n\n",
                "4.  "
            ]
        }
    ],
    "metadata": {
        "kernelspec": {
            "display_name": "Python 3",
            "language": "python",
            "name": "python3"
        },
        "language_info": {
            "codemirror_mode": {
                "name": "ipython",
                "version": 3
            },
            "file_extension": ".py",
            "mimetype": "text/x-python",
            "name": "python",
            "nbconvert_exporter": "python",
            "pygments_lexer": "ipython3",
            "version": "3.8.5"
        }
    },
    "nbformat": 4,
    "nbformat_minor": 2
}