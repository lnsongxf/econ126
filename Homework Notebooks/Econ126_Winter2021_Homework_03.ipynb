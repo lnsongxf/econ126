{
 "cells": [
  {
   "cell_type": "code",
   "execution_count": 1,
   "metadata": {},
   "outputs": [],
   "source": [
    "import numpy as np\n",
    "import pandas as pd\n",
    "import statsmodels.api as sm\n",
    "import matplotlib.pyplot as plt\n",
    "plt.style.use('classic')\n",
    "%matplotlib inline"
   ]
  },
  {
   "cell_type": "markdown",
   "metadata": {},
   "source": [
    "# Homework 3\n",
    "\n",
    "**Instructions:** Complete the notebook below. Download the completed notebook in HTML format. Upload assignment using Canvas.\n",
    "\n",
    "**Due:** Jan. 26 at **2pm**."
   ]
  },
  {
   "cell_type": "markdown",
   "metadata": {},
   "source": [
    "## Exercise: Income and Growth Across Countries\n",
    "\n",
    "The data file `cross_country_gdp_pc.csv` contains annual data on GDP per capita for over 100 countries and is available here: https://github.com/letsgoexploring/econ126/raw/master/Data/Csv/cross_country_gdp_pc.csv. The data are was constructed from the Penn World Table (https://www.rug.nl/ggdc/productivity/pwt/).\n",
    "\n",
    "In this exercise, you will:\n",
    "\n",
    "1. Analyze some basic facts about GDP per capita across the world.\n",
    "2. Compute the average annual growth rate of GDP per capita for each country in the data.\n",
    "3. Compute a linear regression of average GDP per capita growth on GDP per capita in the initial year.\n",
    "\n",
    "Follow the instructions in the following cells."
   ]
  },
  {
   "cell_type": "markdown",
   "metadata": {},
   "source": [
    "### Part (a)"
   ]
  },
  {
   "cell_type": "code",
   "execution_count": 2,
   "metadata": {
    "scrolled": true
   },
   "outputs": [
    {
     "data": {
      "text/html": [
       "<div>\n",
       "<style scoped>\n",
       "    .dataframe tbody tr th:only-of-type {\n",
       "        vertical-align: middle;\n",
       "    }\n",
       "\n",
       "    .dataframe tbody tr th {\n",
       "        vertical-align: top;\n",
       "    }\n",
       "\n",
       "    .dataframe thead th {\n",
       "        text-align: right;\n",
       "    }\n",
       "</style>\n",
       "<table border=\"1\" class=\"dataframe\">\n",
       "  <thead>\n",
       "    <tr style=\"text-align: right;\">\n",
       "      <th></th>\n",
       "      <th>Argentina - ARG</th>\n",
       "      <th>Australia - AUS</th>\n",
       "      <th>Austria - AUT</th>\n",
       "      <th>Burundi - BDI</th>\n",
       "      <th>Belgium - BEL</th>\n",
       "      <th>Benin - BEN</th>\n",
       "      <th>Burkina Faso - BFA</th>\n",
       "      <th>Bangladesh - BGD</th>\n",
       "      <th>Bolivia (Plurinational State of) - BOL</th>\n",
       "      <th>Brazil - BRA</th>\n",
       "      <th>...</th>\n",
       "      <th>Turkey - TUR</th>\n",
       "      <th>Taiwan - TWN</th>\n",
       "      <th>U.R. of Tanzania: Mainland - TZA</th>\n",
       "      <th>Uganda - UGA</th>\n",
       "      <th>Uruguay - URY</th>\n",
       "      <th>United States - USA</th>\n",
       "      <th>Venezuela (Bolivarian Republic of) - VEN</th>\n",
       "      <th>South Africa - ZAF</th>\n",
       "      <th>Zambia - ZMB</th>\n",
       "      <th>Zimbabwe - ZWE</th>\n",
       "    </tr>\n",
       "    <tr>\n",
       "      <th>Year</th>\n",
       "      <th></th>\n",
       "      <th></th>\n",
       "      <th></th>\n",
       "      <th></th>\n",
       "      <th></th>\n",
       "      <th></th>\n",
       "      <th></th>\n",
       "      <th></th>\n",
       "      <th></th>\n",
       "      <th></th>\n",
       "      <th></th>\n",
       "      <th></th>\n",
       "      <th></th>\n",
       "      <th></th>\n",
       "      <th></th>\n",
       "      <th></th>\n",
       "      <th></th>\n",
       "      <th></th>\n",
       "      <th></th>\n",
       "      <th></th>\n",
       "      <th></th>\n",
       "    </tr>\n",
       "  </thead>\n",
       "  <tbody>\n",
       "    <tr>\n",
       "      <th>1960-01-01</th>\n",
       "      <td>2851.49</td>\n",
       "      <td>14223.37</td>\n",
       "      <td>8984.20</td>\n",
       "      <td>676.57</td>\n",
       "      <td>9100.09</td>\n",
       "      <td>1616.84</td>\n",
       "      <td>724.34</td>\n",
       "      <td>1429.30</td>\n",
       "      <td>1771.04</td>\n",
       "      <td>2114.20</td>\n",
       "      <td>...</td>\n",
       "      <td>4691.59</td>\n",
       "      <td>2376.92</td>\n",
       "      <td>1173.90</td>\n",
       "      <td>789.13</td>\n",
       "      <td>6731.78</td>\n",
       "      <td>17462.63</td>\n",
       "      <td>6749.85</td>\n",
       "      <td>5913.81</td>\n",
       "      <td>1665.98</td>\n",
       "      <td>1990.92</td>\n",
       "    </tr>\n",
       "    <tr>\n",
       "      <th>1961-01-01</th>\n",
       "      <td>2897.14</td>\n",
       "      <td>14303.40</td>\n",
       "      <td>9427.85</td>\n",
       "      <td>570.27</td>\n",
       "      <td>9550.57</td>\n",
       "      <td>1601.02</td>\n",
       "      <td>681.06</td>\n",
       "      <td>1391.08</td>\n",
       "      <td>1785.90</td>\n",
       "      <td>2338.23</td>\n",
       "      <td>...</td>\n",
       "      <td>4649.28</td>\n",
       "      <td>2442.46</td>\n",
       "      <td>1187.66</td>\n",
       "      <td>782.75</td>\n",
       "      <td>6739.92</td>\n",
       "      <td>17616.14</td>\n",
       "      <td>6721.12</td>\n",
       "      <td>6008.94</td>\n",
       "      <td>1670.34</td>\n",
       "      <td>2040.24</td>\n",
       "    </tr>\n",
       "    <tr>\n",
       "      <th>1962-01-01</th>\n",
       "      <td>2903.85</td>\n",
       "      <td>14820.87</td>\n",
       "      <td>9630.59</td>\n",
       "      <td>607.52</td>\n",
       "      <td>10008.56</td>\n",
       "      <td>1522.49</td>\n",
       "      <td>724.86</td>\n",
       "      <td>1445.78</td>\n",
       "      <td>1816.33</td>\n",
       "      <td>2442.88</td>\n",
       "      <td>...</td>\n",
       "      <td>4820.57</td>\n",
       "      <td>2550.53</td>\n",
       "      <td>1267.04</td>\n",
       "      <td>778.84</td>\n",
       "      <td>6725.06</td>\n",
       "      <td>18395.60</td>\n",
       "      <td>6972.68</td>\n",
       "      <td>6119.67</td>\n",
       "      <td>1581.47</td>\n",
       "      <td>1960.41</td>\n",
       "    </tr>\n",
       "    <tr>\n",
       "      <th>1963-01-01</th>\n",
       "      <td>2758.01</td>\n",
       "      <td>15573.81</td>\n",
       "      <td>9960.43</td>\n",
       "      <td>623.15</td>\n",
       "      <td>10322.03</td>\n",
       "      <td>1572.27</td>\n",
       "      <td>698.74</td>\n",
       "      <td>1505.08</td>\n",
       "      <td>1889.88</td>\n",
       "      <td>2533.68</td>\n",
       "      <td>...</td>\n",
       "      <td>5163.09</td>\n",
       "      <td>2725.46</td>\n",
       "      <td>1330.11</td>\n",
       "      <td>774.15</td>\n",
       "      <td>6514.72</td>\n",
       "      <td>18943.34</td>\n",
       "      <td>7222.31</td>\n",
       "      <td>6466.65</td>\n",
       "      <td>1614.93</td>\n",
       "      <td>1944.13</td>\n",
       "    </tr>\n",
       "    <tr>\n",
       "      <th>1964-01-01</th>\n",
       "      <td>2853.73</td>\n",
       "      <td>16042.42</td>\n",
       "      <td>10375.80</td>\n",
       "      <td>611.82</td>\n",
       "      <td>10947.25</td>\n",
       "      <td>1622.50</td>\n",
       "      <td>718.58</td>\n",
       "      <td>1466.38</td>\n",
       "      <td>1961.70</td>\n",
       "      <td>2572.07</td>\n",
       "      <td>...</td>\n",
       "      <td>5211.92</td>\n",
       "      <td>2947.73</td>\n",
       "      <td>1492.33</td>\n",
       "      <td>816.41</td>\n",
       "      <td>6683.54</td>\n",
       "      <td>19808.61</td>\n",
       "      <td>7757.37</td>\n",
       "      <td>6738.99</td>\n",
       "      <td>1792.59</td>\n",
       "      <td>1836.15</td>\n",
       "    </tr>\n",
       "  </tbody>\n",
       "</table>\n",
       "<p>5 rows × 111 columns</p>\n",
       "</div>"
      ],
      "text/plain": [
       "            Argentina - ARG  Australia - AUS  Austria - AUT  Burundi - BDI  \\\n",
       "Year                                                                         \n",
       "1960-01-01          2851.49         14223.37        8984.20         676.57   \n",
       "1961-01-01          2897.14         14303.40        9427.85         570.27   \n",
       "1962-01-01          2903.85         14820.87        9630.59         607.52   \n",
       "1963-01-01          2758.01         15573.81        9960.43         623.15   \n",
       "1964-01-01          2853.73         16042.42       10375.80         611.82   \n",
       "\n",
       "            Belgium - BEL  Benin - BEN  Burkina Faso - BFA  Bangladesh - BGD  \\\n",
       "Year                                                                           \n",
       "1960-01-01        9100.09      1616.84              724.34           1429.30   \n",
       "1961-01-01        9550.57      1601.02              681.06           1391.08   \n",
       "1962-01-01       10008.56      1522.49              724.86           1445.78   \n",
       "1963-01-01       10322.03      1572.27              698.74           1505.08   \n",
       "1964-01-01       10947.25      1622.50              718.58           1466.38   \n",
       "\n",
       "            Bolivia (Plurinational State of) - BOL  Brazil - BRA  ...  \\\n",
       "Year                                                              ...   \n",
       "1960-01-01                                 1771.04       2114.20  ...   \n",
       "1961-01-01                                 1785.90       2338.23  ...   \n",
       "1962-01-01                                 1816.33       2442.88  ...   \n",
       "1963-01-01                                 1889.88       2533.68  ...   \n",
       "1964-01-01                                 1961.70       2572.07  ...   \n",
       "\n",
       "            Turkey - TUR  Taiwan - TWN  U.R. of Tanzania: Mainland - TZA  \\\n",
       "Year                                                                       \n",
       "1960-01-01       4691.59       2376.92                           1173.90   \n",
       "1961-01-01       4649.28       2442.46                           1187.66   \n",
       "1962-01-01       4820.57       2550.53                           1267.04   \n",
       "1963-01-01       5163.09       2725.46                           1330.11   \n",
       "1964-01-01       5211.92       2947.73                           1492.33   \n",
       "\n",
       "            Uganda - UGA  Uruguay - URY  United States - USA  \\\n",
       "Year                                                           \n",
       "1960-01-01        789.13        6731.78             17462.63   \n",
       "1961-01-01        782.75        6739.92             17616.14   \n",
       "1962-01-01        778.84        6725.06             18395.60   \n",
       "1963-01-01        774.15        6514.72             18943.34   \n",
       "1964-01-01        816.41        6683.54             19808.61   \n",
       "\n",
       "            Venezuela (Bolivarian Republic of) - VEN  South Africa - ZAF  \\\n",
       "Year                                                                       \n",
       "1960-01-01                                   6749.85             5913.81   \n",
       "1961-01-01                                   6721.12             6008.94   \n",
       "1962-01-01                                   6972.68             6119.67   \n",
       "1963-01-01                                   7222.31             6466.65   \n",
       "1964-01-01                                   7757.37             6738.99   \n",
       "\n",
       "            Zambia - ZMB  Zimbabwe - ZWE  \n",
       "Year                                      \n",
       "1960-01-01       1665.98         1990.92  \n",
       "1961-01-01       1670.34         2040.24  \n",
       "1962-01-01       1581.47         1960.41  \n",
       "1963-01-01       1614.93         1944.13  \n",
       "1964-01-01       1792.59         1836.15  \n",
       "\n",
       "[5 rows x 111 columns]"
      ]
     },
     "execution_count": 2,
     "metadata": {},
     "output_type": "execute_result"
    }
   ],
   "source": [
    "# Create a vhttp://localhost:8889/notebooks/Homework%20Notebooks/Econ126_Winter2021_Homework_03.ipynb#Part-(a)ariable called 'data' that stores the data in the file 'cross_country_gdp_pc.csv' in a DataFrame\n",
    "# Make sure that 'Year', the left-most column of the data, is set to be the index column\n",
    "data = pd.read_csv('https://github.com/letsgoexploring/econ126/raw/master/Data/Csv/cross_country_gdp_pc.csv',index_col=0,parse_dates = True)\n",
    "\n",
    "# Print the first 5 rows of data\n",
    "data.head()"
   ]
  },
  {
   "cell_type": "code",
   "execution_count": 3,
   "metadata": {},
   "outputs": [
    {
     "name": "stdout",
     "output_type": "stream",
     "text": [
      "Number of countries:  111\n"
     ]
    }
   ],
   "source": [
    "# Each column contains data for a specific country. Print the number of countries (e.g., the length of data.columns)\n",
    "print(\"Number of countries: \",len(data.columns))"
   ]
  },
  {
   "cell_type": "code",
   "execution_count": 4,
   "metadata": {},
   "outputs": [
    {
     "name": "stdout",
     "output_type": "stream",
     "text": [
      "Number of years of observations:  58\n"
     ]
    }
   ],
   "source": [
    "# Each column contains data for a specific year. Print the number of years (e.g., the length of data.index)\n",
    "print(\"Number of years of observations: \",len(data.index))"
   ]
  },
  {
   "cell_type": "code",
   "execution_count": 5,
   "metadata": {},
   "outputs": [
    {
     "name": "stdout",
     "output_type": "stream",
     "text": [
      "Initial year:  1960-01-01 00:00:00\n",
      "Final year:    2017-01-01 00:00:00\n"
     ]
    }
   ],
   "source": [
    "# Print the values of the initial year and the final year in the data\n",
    "print(\"Initial year: \",data.index[0])\n",
    "print(\"Final year:   \",data.index[-1])"
   ]
  },
  {
   "cell_type": "code",
   "execution_count": 6,
   "metadata": {},
   "outputs": [],
   "source": [
    "# Create a variable called 'data_initial' that is equal to the first row of the data DataFrame\n",
    "data_initial = data.iloc[0]\n",
    "\n",
    "# Create a variable called 'data_final' that is equal to the last row of the data DataFrame\n",
    "data_final = data.iloc[-1]"
   ]
  },
  {
   "cell_type": "code",
   "execution_count": 7,
   "metadata": {
    "scrolled": false
   },
   "outputs": [
    {
     "name": "stdout",
     "output_type": "stream",
     "text": [
      "Countries with lowest GDP per capita in 1960-01-01 00:00:00:\n",
      "\n",
      "Botswana - BWA         404.68\n",
      "Mozambique - MOZ       493.70\n",
      "Ethiopia - ETH         522.52\n",
      "Burundi - BDI          676.57\n",
      "Egypt - EGY            685.77\n",
      "Nepal - NPL            701.33\n",
      "Mali - MLI             703.97\n",
      "Malta - MLT            718.99\n",
      "Burkina Faso - BFA     724.34\n",
      "Guinea-Bissau - GNB    763.46\n",
      "Name: 1960-01-01 00:00:00, dtype: float64\n"
     ]
    }
   ],
   "source": [
    "# Use the sort_values() method of data_initial to sort the Series in ascending order.\n",
    "data_initial=data_initial.sort_values()\n",
    "\n",
    "# Print the name and GDP per capita of the countries with the 10 lowest GDPs per capita in the initial year of the data\n",
    "print('Countries with lowest GDP per capita in '+str(data.index[0])+':\\n')\n",
    "print(data_initial.head(10))"
   ]
  },
  {
   "cell_type": "code",
   "execution_count": 8,
   "metadata": {},
   "outputs": [
    {
     "name": "stdout",
     "output_type": "stream",
     "text": [
      "Countries with lowest GDP per capita in 2017-01-01 00:00:00:\n",
      "\n",
      "Central African Republic - CAF     727.29\n",
      "D.R. of the Congo - COD            760.47\n",
      "Burundi - BDI                      799.61\n",
      "Niger - NER                        908.65\n",
      "Malawi - MWI                      1038.32\n",
      "Chad - TCD                        1307.97\n",
      "Mozambique - MOZ                  1376.55\n",
      "Togo - TGO                        1566.15\n",
      "Ethiopia - ETH                    1591.49\n",
      "Madagascar - MDG                  1591.55\n",
      "Name: 2017-01-01 00:00:00, dtype: float64\n"
     ]
    }
   ],
   "source": [
    "# Use the sort_values() method of data_final to sort the Series in ascending order.\n",
    "data_final=data_final.sort_values()\n",
    "\n",
    "# Print the name and GDP per capita of the countries with the 10 lowest GDPs per capita in the final year of the data\n",
    "print('Countries with lowest GDP per capita in '+str(data.index[-1])+':\\n')\n",
    "print(data_final.head(10))"
   ]
  },
  {
   "cell_type": "code",
   "execution_count": 9,
   "metadata": {},
   "outputs": [
    {
     "name": "stdout",
     "output_type": "stream",
     "text": [
      "Countries among lowest 10 GDPs per capita in 1960-01-01 00:00:00 and 2017-01-01 00:00:00:\n",
      "\n",
      "Mozambique \n",
      "Ethiopia \n",
      "Burundi \n"
     ]
    }
   ],
   "source": [
    "# Print the names of the countries that are among the 10 with lowest GDPs per capita in BOTH the initial year and \n",
    "# the final year.\n",
    "print('Countries among lowest 10 GDPs per capita in '+str(data.index[0])+' and '+str(data.index[-1])+':\\n')\n",
    "for country in data_initial.head(10).index:\n",
    "    if country in data_final.head(10).index:\n",
    "        print(country.split(\"-\")[0])"
   ]
  },
  {
   "cell_type": "code",
   "execution_count": 10,
   "metadata": {},
   "outputs": [
    {
     "name": "stdout",
     "output_type": "stream",
     "text": [
      "Countries with highest GDP per capita in both 1960-01-01 00:00:00:\n",
      "\n",
      "Netherlands - NLD       11461.35\n",
      "Sweden - SWE            11766.14\n",
      "United Kingdom - GBR    11909.77\n",
      "Denmark - DNK           12026.71\n",
      "New Zealand - NZL       12835.86\n",
      "Canada - CAN            13360.91\n",
      "Australia - AUS         14223.37\n",
      "Luxembourg - LUX        15757.45\n",
      "United States - USA     17462.63\n",
      "Switzerland - CHE       20086.09\n",
      "Name: 1960-01-01 00:00:00, dtype: float64\n"
     ]
    }
   ],
   "source": [
    "# Print the name and GDP per capita of the countries with the 10 highest GDPs per capita in the initial year of the data\n",
    "print('Countries with highest GDP per capita in both '+str(data.index[0])+':\\n')\n",
    "print(data_initial.tail(10))"
   ]
  },
  {
   "cell_type": "code",
   "execution_count": 11,
   "metadata": {
    "scrolled": false
   },
   "outputs": [
    {
     "name": "stdout",
     "output_type": "stream",
     "text": [
      "Countries with highest GDP per capita in 2017-01-01 00:00:00:\n",
      "\n",
      "Austria - AUT          46103.27\n",
      "Netherlands - NLD      46601.56\n",
      "Australia - AUS        47392.62\n",
      "Germany - DEU          47556.00\n",
      "United States - USA    54794.76\n",
      "Norway - NOR           60590.25\n",
      "Switzerland - CHE      64219.30\n",
      "Singapore - SGP        67138.11\n",
      "Luxembourg - LUX       74605.23\n",
      "Ireland - IRL          75916.08\n",
      "Name: 2017-01-01 00:00:00, dtype: float64\n"
     ]
    }
   ],
   "source": [
    "# Print the name and GDP per capita of the countries with the 10 highest GDPs per capita in the final year of the data\n",
    "print('Countries with highest GDP per capita in '+str(data.index[-1])+':\\n')\n",
    "print(data_final.tail(10))"
   ]
  },
  {
   "cell_type": "code",
   "execution_count": 12,
   "metadata": {
    "scrolled": true
   },
   "outputs": [
    {
     "name": "stdout",
     "output_type": "stream",
     "text": [
      "Countries among highest 10 GDPs per capita in both 1960-01-01 00:00:00 and 2017-01-01 00:00:00:\n",
      "\n",
      "Netherlands \n",
      "Australia \n",
      "Luxembourg \n",
      "United States \n",
      "Switzerland \n"
     ]
    }
   ],
   "source": [
    "# Print the names of the countries that are among the 10 with highest GDPs per capita in BOTH the initial year\n",
    "# and the final year\n",
    "print('Countries among highest 10 GDPs per capita in both '+str(data.index[0])+' and '+str(data.index[-1])+':\\n')\n",
    "for country in data_initial.tail(10).index:\n",
    "    if country in data_final.tail(10).index:\n",
    "        print(country.split(\"-\")[0])"
   ]
  },
  {
   "cell_type": "markdown",
   "metadata": {},
   "source": [
    "### Part (b)\n",
    "\n",
    "Let $y_t$ denotes GDP per capita for some country in some year $t$ and let $g$ denotes the average annual growth in GDP per capita between years 0 and $T$. $g$ is defined by:\n",
    "\\begin{align}\n",
    "y_T & = (1+g)^T y_0\n",
    "\\end{align}\n",
    "which implies:\n",
    "\\begin{align}\n",
    "g & = \\left(\\frac{y_T}{y_0}\\right)^{1/T} - 1\n",
    "\\end{align}\n",
    "We can use this equation to compute the aveage growth rate of GDP per capita for each country in our data. Note that for our data, $T$ is equal to `len(data.index)-1`."
   ]
  },
  {
   "cell_type": "code",
   "execution_count": 13,
   "metadata": {},
   "outputs": [],
   "source": [
    "# Create a variable called 'growth_rates' that contains the average growth rate of each country in the data.\n",
    "# NOTE: You do not need to re-sort the variables data_initial and data_final. If their indices don't align,\n",
    "# Pandas will automatically sort their indices alphabetically.\n",
    "T = len(data.index)-1\n",
    "growth_rates = (data_final/data_initial)**(1/T)-1\n",
    "\n",
    "# Use the sort_values() method of growth_rates to sort the Series in ascending order.\n",
    "growth_rates=growth_rates.sort_values()"
   ]
  },
  {
   "cell_type": "code",
   "execution_count": 14,
   "metadata": {},
   "outputs": [
    {
     "name": "stdout",
     "output_type": "stream",
     "text": [
      "Average growth rate of GDP per capita for all countries:  0.0224\n"
     ]
    }
   ],
   "source": [
    "# Print the average growth rate of GDP per capita for all countries rounded to 4 decimal places\n",
    "print('Average growth rate of GDP per capita for all countries: ',round(growth_rates.mean(),4))"
   ]
  },
  {
   "cell_type": "code",
   "execution_count": 15,
   "metadata": {},
   "outputs": [
    {
     "name": "stdout",
     "output_type": "stream",
     "text": [
      "Standard deviation of the growth rate of GDP per capita for all countries:  0.0159\n"
     ]
    }
   ],
   "source": [
    "# Print the standard deviation of the growth rate of GDP per capita for all countries rounded to 4 decimal places\n",
    "print('Standard deviation of the growth rate of GDP per capita for all countries: ',round(growth_rates.std(),4))"
   ]
  },
  {
   "cell_type": "code",
   "execution_count": 16,
   "metadata": {},
   "outputs": [
    {
     "name": "stdout",
     "output_type": "stream",
     "text": [
      "Countries with lowest growth rates of GDP per capita:\n",
      "\n",
      "D.R. of the Congo - COD          -0.022039\n",
      "Central African Republic - CAF   -0.011405\n",
      "Niger - NER                      -0.007151\n",
      "Guinea - GIN                     -0.004706\n",
      "Zimbabwe - ZWE                   -0.001082\n",
      "Chad - TCD                       -0.000086\n",
      "Gambia - GMB                      0.000916\n",
      "Nigeria - NGA                     0.001056\n",
      "Madagascar - MDG                  0.001781\n",
      "Barbados - BRB                    0.001924\n",
      "dtype: float64\n"
     ]
    }
   ],
   "source": [
    "# Print the name and growth rates of the countries with the 10 lowest growth rates of GDP per capita\n",
    "print('Countries with lowest growth rates of GDP per capita:\\n')\n",
    "print(growth_rates.head(10))"
   ]
  },
  {
   "cell_type": "code",
   "execution_count": 17,
   "metadata": {},
   "outputs": [
    {
     "name": "stdout",
     "output_type": "stream",
     "text": [
      "Countries with highest growth rates of GDP per capita:\n",
      "\n",
      "China - CHN                0.045830\n",
      "Thailand - THA             0.048224\n",
      "Equatorial Guinea - GNQ    0.048863\n",
      "Egypt - EGY                0.050227\n",
      "Romania - ROU              0.051858\n",
      "Taiwan - TWN               0.052199\n",
      "Singapore - SGP            0.058379\n",
      "Republic of Korea - KOR    0.063021\n",
      "Botswana - BWA             0.065429\n",
      "Malta - MLT                0.068160\n",
      "dtype: float64\n"
     ]
    }
   ],
   "source": [
    "# Print the name and growth rates of the countries with the 10 highest growth rates of GDP per capita\n",
    "print('Countries with highest growth rates of GDP per capita:\\n')\n",
    "print(growth_rates.tail(10))"
   ]
  },
  {
   "cell_type": "code",
   "execution_count": 18,
   "metadata": {},
   "outputs": [
    {
     "name": "stdout",
     "output_type": "stream",
     "text": [
      "Countries among highest 10 GDPs per capita in both 1960-01-01 00:00:00 and 2017-01-01 00:00:00:\n",
      "\n",
      "Egypt \n",
      "Botswana \n",
      "Malta \n"
     ]
    }
   ],
   "source": [
    "# Print the names of the countries that were BOTH among the 10 with lowest GDPs per capita in the initial year and \n",
    "# among the 10 with the highest growth of GDP per capita.\n",
    "print('Countries among highest 10 GDPs per capita in both '+str(data.index[0])+' and '+str(data.index[-1])+':\\n')\n",
    "for country in growth_rates.tail(10).index:\n",
    "    if country in data_initial.head(10).index:\n",
    "        print(country.split(\"-\")[0])"
   ]
  },
  {
   "cell_type": "code",
   "execution_count": 19,
   "metadata": {},
   "outputs": [
    {
     "data": {
      "image/png": "[encoded data removed]",
      "text/plain": [
       "<Figure size 432x288 with 1 Axes>"
      ]
     },
     "metadata": {
      "needs_background": "light"
     },
     "output_type": "display_data"
    }
   ],
   "source": [
    "# Use the sort_index() method of data_initial to alphabetize the index [e.g., data_initial = data_initial.sort_index()]\n",
    "data_initial = data_initial.sort_index()\n",
    "\n",
    "# Use the sort_index() method of growth_rates to alphabetize the index\n",
    "growth_rates = growth_rates.sort_index()\n",
    "\n",
    "# Construct a scatter plot with:\n",
    "#     1. GDP per capita in the initial year on the horizontal axis\n",
    "#     2. Average growth rate of GDP per capita on the vertical axis\n",
    "#     3. Size of scatter plot markers at least 50\n",
    "#     4. Opacity of scatter plot markers no greater than 0.5\n",
    "#     5. x-axis limit: [0,20000]\n",
    "#     6. Suitable title and labels for the axes\n",
    "\n",
    "fig = plt.figure()\n",
    "ax = fig.add_subplot(1,1,1)\n",
    "ax.scatter(data_initial,growth_rates,s=100,alpha=0.2)\n",
    "ax.set_title('Income versus Growth for '+str(len(data.columns))+' Countries')\n",
    "ax.set_xlabel('GDP per capita in '+str(data.index[0])+'\\n(Thousands of $)')\n",
    "ax.set_ylabel('Growth rate of GDP per capita\\nfrom '+str(data.index[0])+' to '+str(data.index[-1]))\n",
    "ax.set_xlim([0,20000])\n",
    "ax.grid()"
   ]
  },
  {
   "cell_type": "markdown",
   "metadata": {},
   "source": [
    "**Question**\n",
    "\n",
    "1. Describe in words the relationship between GDP per capita in the initial year and average growth of GDP per capita. How is the relationship different for low income countries and high income countries?"
   ]
  },
  {
   "cell_type": "markdown",
   "metadata": {},
   "source": [
    "**Answer**\n",
    "\n",
    "1. There is a right-pointing triangle-shaped relationship between GDP per capita in the initial year and average growth of GDP per capita. Countries with high GDP per capita in the initial year had average growth rates that were almost uniformly close to the world average of about 2 percent. Countries with lower GDP per capita in the initial year had much more variation across the average growth rates of their GDP per capita. The countries with the highest growth rates of GDP per capita were among the lowest income initially and the countries with the lowest growth rates of GDP per capita were also among the lowest income initially.<!-- answer -->"
   ]
  },
  {
   "cell_type": "markdown",
   "metadata": {},
   "source": [
    "### Part (c)\n",
    "\n",
    "In this part you will use OLS to estimate the relationship between GDP per capita in the initial year and average growth of GDP per capita.\n",
    "\n",
    "\\begin{align}\n",
    "g_i & = \\beta_0 + \\beta_{\\text{1}}y_i + \\epsilon_i,\n",
    "\\end{align}\n",
    "\n",
    "where $g_i$ is the average annual growth rate of country $i$, $y_i$ is country $i$'s initial GDP per capita, and $\\epsilon_i$ is the residual of the regression."
   ]
  },
  {
   "cell_type": "code",
   "execution_count": 20,
   "metadata": {},
   "outputs": [
    {
     "name": "stdout",
     "output_type": "stream",
     "text": [
      "                  Results: Ordinary least squares\n",
      "===================================================================\n",
      "Model:              OLS              Adj. R-squared:     -0.009    \n",
      "Dependent Variable: y                AIC:                -601.5469 \n",
      "Date:               2021-02-09 13:27 BIC:                -596.1278 \n",
      "No. Observations:   111              Log-Likelihood:     302.77    \n",
      "Df Model:           1                F-statistic:        0.01452   \n",
      "Df Residuals:       109              Prob (F-statistic): 0.904     \n",
      "R-squared:          0.000            Scale:              0.00025479\n",
      "-------------------------------------------------------------------\n",
      "                      Coef.  Std.Err.    t    P>|t|   [0.025 0.975]\n",
      "-------------------------------------------------------------------\n",
      "const                 0.0226   0.0022 10.3406 0.0000  0.0182 0.0269\n",
      "1960-01-01 00:00:00  -0.0000   0.0000 -0.1205 0.9043 -0.0000 0.0000\n",
      "-------------------------------------------------------------------\n",
      "Omnibus:                4.381        Durbin-Watson:           1.666\n",
      "Prob(Omnibus):          0.112        Jarque-Bera (JB):        3.995\n",
      "Skew:                   0.318        Prob(JB):                0.136\n",
      "Kurtosis:               3.678        Condition No.:           8515 \n",
      "===================================================================\n",
      "* The condition number is large (9e+03). This might indicate\n",
      "strong multicollinearity or other numerical problems.\n"
     ]
    }
   ],
   "source": [
    "growth_rates = growth_rates.sort_index()\n",
    "data_initial = data_initial.sort_index()\n",
    "\n",
    "\n",
    "# Create a variable called 'y' that is equal to the average growth rates of the countries\n",
    "y = growth_rates\n",
    "\n",
    "# Create a variable called x' that is equal to the GDP per capita of the countries in the initial year\n",
    "x = data_initial\n",
    "\n",
    "# Use the Statsmodels function add_constant() to add a constant column to the variable x\n",
    "x = sm.add_constant(data_initial)\n",
    "\n",
    "# Create a variable called 'model' equal to the output of the Statsmodels OLS function regressing y upon x\n",
    "model = sm.OLS(y,x)\n",
    "\n",
    "# Create a variable called 'results' that stores the fitted model (i.e., the output of the fit() method of model)\n",
    "results = model.fit()\n",
    "\n",
    "# Print the summary of results generated by the summary() method of results\n",
    "print(results.summary2())"
   ]
  },
  {
   "cell_type": "markdown",
   "metadata": {},
   "source": [
    "**Questions**\n",
    "\n",
    "1. Interpret the estimate for the coefficient on $y_i$.\n",
    "2. Interpret the estimate for the constant. Where did we see this number earlier?\n",
    "3. Interpret the R-squared of the regression."
   ]
  },
  {
   "cell_type": "markdown",
   "metadata": {},
   "source": [
    "**Answers**\n",
    "\n",
    "1. The estimated coefficient on $y_i$ is both very close to zero and is not statistically different from zero.<!-- answer -->\n",
    "2. The estimated constant is equal to the average growth rate of GDP per capita across all countries and we computed that in the second code cell of Part (b).<!-- answer -->\n",
    "3. The R-squared implies that the linear regression model explains essentially zero percent of the variation in average GDP per capita growth across countries.<!-- answer -->"
   ]
  },
  {
   "cell_type": "markdown",
   "metadata": {},
   "source": [
    "## Exercise: Income and Growth Across US States\n",
    "\n",
    "The data file `state_income_data.csv` contains annual data on income per capita for the 48 continental states, Washington D.C., and the United States as a whole and is available here: https://raw.githubusercontent.com/letsgoexploring/economic-data/master/us-convergence/csv/state_income_data.csv. \n",
    "\n",
    "In this exercise, you will:\n",
    "\n",
    "1. Analyze some basic facts about income per capita among US states.\n",
    "2. Compute the average annual growth rate of income per capita for each state in the data.\n",
    "3. Compute a linear regression of average income per capita growth on income per capita in the initial year.\n",
    "\n",
    "Follow the instructions in the following cells."
   ]
  },
  {
   "cell_type": "markdown",
   "metadata": {},
   "source": [
    "### Part (a)"
   ]
  },
  {
   "cell_type": "code",
   "execution_count": 21,
   "metadata": {},
   "outputs": [
    {
     "name": "stdout",
     "output_type": "stream",
     "text": [
      "      United States           AL           AZ           AR            CA  \\\n",
      "1840    1179.435484   961.693548          NaN  1233.870968           NaN   \n",
      "1880    1915.322581  1129.032258  4778.225806  1250.000000   3911.290323   \n",
      "1900    2460.483871  1350.000000  4354.838710  1371.774194   3941.129032   \n",
      "1929    7417.230000  3384.970000  6345.500000  3215.200000  10547.540000   \n",
      "1930    6839.960000  2896.790000  5705.470000  2467.230000   9791.830000   \n",
      "\n",
      "               CO            CT            DE        DC           FL  ...  \\\n",
      "1840          NaN   1651.209677   1233.870968       NaN  1252.016129  ...   \n",
      "1880  4455.645161   2943.548387   2177.419355       NaN   967.741935  ...   \n",
      "1900  3810.483871   3396.774194   2721.774194       NaN  1458.870968  ...   \n",
      "1929  6695.670000  10918.930000  10940.150000  14049.24  5507.220000  ...   \n",
      "1930  6322.280000  10210.380000   9450.380000  14472.96  5154.750000  ...   \n",
      "\n",
      "               SD           TN           TX           UT           VT  \\\n",
      "1840          NaN   852.822581          NaN          NaN  1179.435484   \n",
      "1880  2116.935484  1048.387097  1209.677419  1633.064516  2096.774194   \n",
      "1900  1513.306452  1328.225806  1829.032258  2482.258065  2569.354839   \n",
      "1929  4403.650000  3957.980000  5029.710000  5814.940000  6685.060000   \n",
      "1930  3932.150000  3535.630000  4482.870000  5441.130000  6300.250000   \n",
      "\n",
      "               VA           WA           WV           WI           WY  \n",
      "1840   979.838710          NaN   979.838710  1451.612903          NaN  \n",
      "1880  1028.225806  2822.580645  1088.709677  1895.161290  3104.838710  \n",
      "1900  1437.096774  3941.129032  1720.161290  2329.838710  5160.483871  \n",
      "1929  4615.870000  7852.290000  4870.540000  7109.510000  7130.730000  \n",
      "1930  4262.580000  7236.480000  4482.870000  6443.440000  6410.400000  \n",
      "\n",
      "[5 rows x 50 columns]\n"
     ]
    }
   ],
   "source": [
    "# Create a variable called 'state_df' that stores the data in the file 'cross_country_gdp_pc.csv' in a DataFrame\n",
    "# Make sure that 'Year', the left-most column of the data, is set to be the index column\n",
    "state_df= pd.read_csv('https://raw.githubusercontent.com/letsgoexploring/economic-data/master/us-convergence/csv/state_income_data.csv',index_col=0)\n",
    "\n",
    "# Print the first 5 rows of data\n",
    "print(state_df.head())"
   ]
  },
  {
   "cell_type": "markdown",
   "metadata": {},
   "source": [
    "The DataFrame method `dropna()` returns a DataFrame that omits rows that contain missing (NaN means *not a number*) values. The following command will remove the rows with missing values from the DataFrame `df`:\n",
    "\n",
    "    df =  df.dropna()\n",
    "    \n",
    "The DataFrame method `drop()` returns a DataFrame that omits rows or columns with a given label. The following command will remove the column named `'LABEL'` from the DataFrame `df`:   \n",
    "   \n",
    "    df = df.drop('LABEL',axis=1)\n",
    "    \n",
    "The argument `axis=1` means to look among the columns for `'LABEL'`. If we had wanted to remove a row with the index value `'LABEL'`, then the axis argument would have been: `axis=0`."
   ]
  },
  {
   "cell_type": "code",
   "execution_count": 22,
   "metadata": {},
   "outputs": [
    {
     "name": "stdout",
     "output_type": "stream",
     "text": [
      "           AL       AZ       AR        CA       CO        CT        DE  \\\n",
      "1929  3.38497  6.34550  3.21520  10.54754  6.69567  10.91893  10.94015   \n",
      "1930  2.89679  5.70547  2.46723   9.79183  6.32228  10.21038   9.45038   \n",
      "1931  2.70071  5.27866  2.54112   9.24380  5.79425   9.90670   9.52615   \n",
      "1932  2.21048  4.47657  2.11317   8.11900  4.96316   8.71681   8.21632   \n",
      "1933  2.34520  4.41870  2.18790   7.86501  5.04791   8.45131   8.09381   \n",
      "\n",
      "            DC       FL       GA  ...       SD       TN       TX       UT  \\\n",
      "1929  14.04924  5.50722  3.63964  ...  4.40365  3.95798  5.02971  5.81494   \n",
      "1930  14.47296  5.15475  3.33737  ...  3.93215  3.53563  4.48287  5.44113   \n",
      "1931  15.38178  4.87356  3.11809  ...  2.97078  3.35134  4.23521  4.56666   \n",
      "1932  15.38996  4.40706  2.73877  ...  2.62755  2.69707  3.64243  4.22633   \n",
      "1933  13.51351  4.13270  2.88860  ...  1.94480  2.87430  3.63220  4.24710   \n",
      "\n",
      "           VT       VA       WA       WV       WI       WY  \n",
      "1929  6.68506  4.61587  7.85229  4.87054  7.10951  7.13073  \n",
      "1930  6.30025  4.26258  7.23648  4.48287  6.44344  6.41040  \n",
      "1931  5.78198  4.55438  6.55536  4.34569  5.75743  5.85563  \n",
      "1932  5.04657  3.97609  5.58877  3.57292  5.03267  5.21340  \n",
      "1933  4.81910  4.08980  5.37681  3.70370  4.77620  5.31961  \n",
      "\n",
      "[5 rows x 49 columns]\n"
     ]
    }
   ],
   "source": [
    "# Remove the rows with missing data from state_df\n",
    "state_df = state_df.dropna()\n",
    "\n",
    "# Remove the column named 'United States' from state_df\n",
    "state_df = state_df.drop('United States',axis=1)\n",
    "\n",
    "# Set state_df equal to itself divided by 1000 so that its units are in thousands of dollars\n",
    "state_df = state_df/1000\n",
    "\n",
    "# Print the first 5 rows of data\n",
    "print(state_df.head())"
   ]
  },
  {
   "cell_type": "code",
   "execution_count": 23,
   "metadata": {},
   "outputs": [],
   "source": [
    "# Create a variable called 'state_growth_rates' that contains the average growth rate of each state in the data.\n",
    "T = len(state_df)-1\n",
    "state_growth_rates = (state_df.iloc[-1]/state_df.iloc[0])**(1/T)-1"
   ]
  },
  {
   "cell_type": "code",
   "execution_count": 24,
   "metadata": {},
   "outputs": [
    {
     "data": {
      "image/png": "[encoded data removed]",
      "text/plain": [
       "<Figure size 432x288 with 1 Axes>"
      ]
     },
     "metadata": {
      "needs_background": "light"
     },
     "output_type": "display_data"
    }
   ],
   "source": [
    "# Construct a scatter plot with:\n",
    "#     1. Income per capita in the initial year on the horizontal axis\n",
    "#     2. Average growth rate of income per capita on the vertical axis\n",
    "#     3. Size of scatter plot markers at least 50\n",
    "#     4. Opacity of scatter plot markers no greater than 0.5\n",
    "#     5. y-axis limit: [0.015,0.035]\n",
    "#     6. Suitable title and labels for the axes\n",
    "\n",
    "fig = plt.figure()\n",
    "ax = fig.add_subplot(1,1,1)\n",
    "ax.scatter(state_df.iloc[0],state_growth_rates,s=100,alpha=0.2)\n",
    "ax.set_title('Income versus Growth for '+str(len(state_df.columns))+' States incl. DC')\n",
    "ax.set_xlabel('Income per capita in '+str(state_df.index[0])+'\\n(Thousands of $)')\n",
    "ax.set_ylabel('Growth rate of income per capita\\nfrom '+str(state_df.index[0])+' to '+str(state_df.index[-1]))\n",
    "ax.set_ylim([0.015,0.035])\n",
    "ax.grid()"
   ]
  },
  {
   "cell_type": "markdown",
   "metadata": {},
   "source": [
    "### Part (b)\n",
    "\n",
    "Like you did for the country data above, use OLS to estimate the relationship between income per capita in the initial year and average growth of income per capita.\n",
    "\n",
    "\\begin{align}\n",
    "g_i & = \\beta_0 + \\beta_{\\text{1}}y_i + \\epsilon_i,\n",
    "\\end{align}\n",
    "\n",
    "where $g_i$ is the average annual growth rate of country $i$, $y_i$ is state $i$'s initial income per capita, and $\\epsilon_i$ is the residual of the regression."
   ]
  },
  {
   "cell_type": "code",
   "execution_count": 25,
   "metadata": {},
   "outputs": [
    {
     "name": "stdout",
     "output_type": "stream",
     "text": [
      "                  Results: Ordinary least squares\n",
      "===================================================================\n",
      "Model:              OLS              Adj. R-squared:     0.769     \n",
      "Dependent Variable: y                AIC:                -491.9873 \n",
      "Date:               2021-02-09 13:27 BIC:                -488.2036 \n",
      "No. Observations:   49               Log-Likelihood:     247.99    \n",
      "Df Model:           1                F-statistic:        161.1     \n",
      "Df Residuals:       47               Prob (F-statistic): 8.57e-17  \n",
      "R-squared:          0.774            Scale:              2.4525e-06\n",
      "---------------------------------------------------------------------\n",
      "            Coef.    Std.Err.      t       P>|t|     [0.025    0.975]\n",
      "---------------------------------------------------------------------\n",
      "const       0.0304     0.0006    48.7986   0.0000    0.0291    0.0317\n",
      "1929       -0.0011     0.0001   -12.6915   0.0000   -0.0013   -0.0009\n",
      "-------------------------------------------------------------------\n",
      "Omnibus:                1.862        Durbin-Watson:           2.164\n",
      "Prob(Omnibus):          0.394        Jarque-Bera (JB):        1.597\n",
      "Skew:                   0.300        Prob(JB):                0.450\n",
      "Kurtosis:               2.351        Condition No.:           20   \n",
      "===================================================================\n",
      "\n"
     ]
    }
   ],
   "source": [
    "# Create a variable called 'y' that is equal to the average growth rates of the states\n",
    "y = state_growth_rates\n",
    "\n",
    "# Create a variable called x' that is equal to the income per capita of the states in the initial year\n",
    "x = state_df.iloc[0]\n",
    "\n",
    "# Use the Statsmodels function add_constant() to add a constant column to the variable x\n",
    "x = sm.add_constant(x)\n",
    "\n",
    "# Create a variable called 'model' equal to the output of the Statsmodels OLS function regressing y upon x\n",
    "model = sm.OLS(y,x)\n",
    "\n",
    "# Create a variable called 'results' that stores the fitted model (i.e., the output of the fit() method of model)\n",
    "results = model.fit()\n",
    "\n",
    "# Print the summary of results generated by the summary() method of results\n",
    "print(results.summary2())"
   ]
  },
  {
   "cell_type": "markdown",
   "metadata": {},
   "source": [
    "**Questions**\n",
    "\n",
    "1. Interpret the estimate for the coefficient on $y_i$.\n",
    "2. Interpret the R-squared of the regression.\n",
    "3. Why do you think that initial income and average growth are so strongly correlated in the state data but not so in the country data? (If you're not sure, referesh your knowledge about the difference between *conditional* and *unconditional* convergence: https://en.wikipedia.org/wiki/Convergence_(economics)#Types_of_Convergence)"
   ]
  },
  {
   "cell_type": "markdown",
   "metadata": {},
   "source": [
    "**Answers**\n",
    "\n",
    "1. The estimated coefficient on $y_i$ implies that a \\$1,000 increase in income per captia reduces a states average growth rate of income per capita by 1.2 percent. I.e., states with lower initial income had greater income growth than higher income states. <!-- answer -->\n",
    "2. The R-squared implies that the linear regression model explains about 76 percent of the variation in average income per capita growth across states.<!-- answer -->\n",
    "3. Lower-income US states are \"economically similar\" to higher-income states in that they have the same currency, federal regulation, legal traditions, and language, and they have similar laws, poltical institutions. Therefore, it's not surprising to observe *catch-up growth* among the lower-income states. By contrast, lower-income countries are a diverse group with broad differences in policies and institutions and so it is not at all guaranteed that low income countries will enjoy catch-up growth simply by virtue of their low income. <!-- answer -->"
   ]
  }
 ],
 "metadata": {
  "kernelspec": {
   "display_name": "Python 3",
   "language": "python",
   "name": "python3"
  },
  "language_info": {
   "codemirror_mode": {
    "name": "ipython",
    "version": 3
   },
   "file_extension": ".py",
   "mimetype": "text/x-python",
   "name": "python",
   "nbconvert_exporter": "python",
   "pygments_lexer": "ipython3",
   "version": "3.8.5"
  }
 },
 "nbformat": 4,
 "nbformat_minor": 2
}
